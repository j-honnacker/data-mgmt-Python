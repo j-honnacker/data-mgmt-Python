{
 "cells": [
  {
   "cell_type": "markdown",
   "metadata": {},
   "source": [
    "## Intro"
   ]
  },
  {
   "cell_type": "markdown",
   "metadata": {},
   "source": [
    "Full path and name of the CSV file is stored in `xample_file`:"
   ]
  },
  {
   "cell_type": "code",
   "execution_count": 1,
   "metadata": {},
   "outputs": [],
   "source": [
    "xample_file = 'test.csv'"
   ]
  },
  {
   "cell_type": "markdown",
   "metadata": {},
   "source": [
    "## Pandas - read_csv()"
   ]
  },
  {
   "cell_type": "code",
   "execution_count": 2,
   "metadata": {},
   "outputs": [
    {
     "name": "stdout",
     "output_type": "stream",
     "text": [
      "\n",
      " Whole file: \n",
      "               0      1\n",
      "0         Hello  world\n",
      "1  Hello, world      !\n",
      "2        What's    up?\n"
     ]
    }
   ],
   "source": [
    "import pandas as pd\n",
    "\n",
    "whole_file = pd.read_csv(xample_file,\n",
    "                         header=None,\n",
    "                         #names=['col1', 'col2'] # column names\n",
    "                        )\n",
    "\n",
    "print(\"\\n Whole file: \\n\", whole_file)"
   ]
  },
  {
   "cell_type": "markdown",
   "metadata": {},
   "source": [
    "## csv.reader()"
   ]
  },
  {
   "cell_type": "code",
   "execution_count": 3,
   "metadata": {},
   "outputs": [
    {
     "name": "stdout",
     "output_type": "stream",
     "text": [
      "obs 0: ['Hello', 'world']\n",
      "> column 0: Hello\n",
      "> column 1: world\n",
      "obs 1: ['Hello, world', '!']\n",
      "> column 0: Hello, world\n",
      "> column 1: !\n",
      "obs 2: [\"What's\", 'up?']\n",
      "> column 0: What's\n",
      "> column 1: up?\n",
      "\n",
      " Whole file: \n",
      " [['Hello', 'world'], ['Hello, world', '!'], [\"What's\", 'up?']]\n"
     ]
    }
   ],
   "source": [
    "import csv\n",
    "\n",
    "with open(xample_file, 'r') as input_file:\n",
    "    \n",
    "    whole_file = []\n",
    "    \n",
    "    for obs, row in enumerate( csv.reader(input_file,\n",
    "                                          delimiter  = ',',\n",
    "                                          quotechar  = '\"',\n",
    "                                          quoting    = csv.QUOTE_ALL,\n",
    "                                          skipinitialspace = True,\n",
    "                                          escapechar = '\\\\'\n",
    "                                         )\n",
    "                             ):\n",
    "        \n",
    "        # display row\n",
    "        print(\"obs {}: {}\".format(obs, row))\n",
    "        \n",
    "        # display each column\n",
    "        for column_n, column in enumerate(row):\n",
    "            print(\"> column {}: {}\".format(column_n, column))\n",
    "\n",
    "        # add row to 'whole_file'\n",
    "        whole_file.append(row)\n",
    "\n",
    "        \n",
    "print(\"\\n Whole file: \\n\", whole_file)"
   ]
  },
  {
   "cell_type": "markdown",
   "metadata": {},
   "source": [
    "## split(',') each line"
   ]
  },
  {
   "cell_type": "markdown",
   "metadata": {},
   "source": [
    "In the following solution, 'strip()' interprets all commas as delimiters - even those enclosed in quotes. Thus, 3 columns are identified in 2nd row."
   ]
  },
  {
   "cell_type": "code",
   "execution_count": 4,
   "metadata": {},
   "outputs": [
    {
     "name": "stdout",
     "output_type": "stream",
     "text": [
      "obs 1: ['Hello', 'world']\n",
      "> column 1: Hello\n",
      "> column 2: world\n",
      "obs 2: ['\"Hello', ' world\"', '!']\n",
      "> column 1: \"Hello\n",
      "> column 2:  world\"\n",
      "> column 3: !\n",
      "obs 3: ['\"What\\'s\"', 'up?']\n",
      "> column 1: \"What's\"\n",
      "> column 2: up?\n",
      "\n",
      " Whole file: \n",
      " [['Hello', 'world'], ['\"Hello', ' world\"', '!'], ['\"What\\'s\"', 'up?']]\n"
     ]
    }
   ],
   "source": [
    "with open(xample_file, 'r') as input_file:\n",
    "    \n",
    "    whole_file = []\n",
    "    \n",
    "    for obs, row_str in enumerate(input_file, 1):\n",
    "        \n",
    "        # represent row as a list\n",
    "        row_list = row_str.strip().split(',')\n",
    "        \n",
    "        # display row\n",
    "        print(\"obs {}: {}\".format(obs, row_list))\n",
    "        \n",
    "        # display each column\n",
    "        for column_n, column in enumerate(row_list, 1):\n",
    "            print(\"> column {}: {}\".format(column_n, column))\n",
    "        \n",
    "        # add row to 'whole_file'\n",
    "        whole_file.append(row_list)\n",
    "\n",
    "\n",
    "print(\"\\n Whole file: \\n\", whole_file)\n"
   ]
  }
 ],
 "metadata": {
  "kernelspec": {
   "display_name": "Python 3",
   "language": "python",
   "name": "python3"
  },
  "language_info": {
   "codemirror_mode": {
    "name": "ipython",
    "version": 3
   },
   "file_extension": ".py",
   "mimetype": "text/x-python",
   "name": "python",
   "nbconvert_exporter": "python",
   "pygments_lexer": "ipython3",
   "version": "3.7.3"
  }
 },
 "nbformat": 4,
 "nbformat_minor": 2
}
